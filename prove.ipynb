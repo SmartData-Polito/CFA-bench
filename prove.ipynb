{
 "cells": [
  {
   "cell_type": "code",
   "execution_count": 1,
   "metadata": {},
   "outputs": [
    {
     "name": "stdout",
     "output_type": "stream",
     "text": [
      "No results found.\n"
     ]
    }
   ],
   "source": [
    "import requests\n",
    "from bs4 import BeautifulSoup\n",
    "\n",
    "def search_web(query, num_results=5):\n",
    "    \"\"\"\n",
    "    Searches the web using Google and retrieves the specified number of results with snippets.\n",
    "    \n",
    "    Args:\n",
    "        query (str): The search query.\n",
    "        num_results (int): The number of search results to retrieve.\n",
    "    \n",
    "    Returns:\n",
    "        list: A list of dictionaries containing 'title', 'link', and 'snippet'.\n",
    "    \"\"\"\n",
    "    headers = {\n",
    "        \"User-Agent\": \"Mozilla/5.0 (Windows NT 10.0; Win64; x64) AppleWebKit/537.36 (KHTML, like Gecko) Chrome/91.0.4472.124 Safari/537.36\"\n",
    "    }\n",
    "    base_url = \"https://www.google.com/search\"\n",
    "    params = {\n",
    "        \"q\": query,\n",
    "        \"num\": num_results\n",
    "    }\n",
    "\n",
    "    response = requests.get(base_url, headers=headers, params=params)\n",
    "\n",
    "    if response.status_code != 200:\n",
    "        print(f\"Error: Unable to fetch results (HTTP {response.status_code})\")\n",
    "        return []\n",
    "\n",
    "    soup = BeautifulSoup(response.text, \"html.parser\")\n",
    "\n",
    "    results = []\n",
    "    for g in soup.find_all(\"div\", class_=\"tF2Cxc\"):\n",
    "        title = g.find(\"h3\")\n",
    "        link = g.find(\"a\")\n",
    "        snippet = g.find(\"span\", class_=\"aCOpRe\")\n",
    "\n",
    "        if title and link and snippet:\n",
    "            results.append({\n",
    "                \"title\": title.text,\n",
    "                \"link\": link[\"href\"],\n",
    "                \"snippet\": snippet.text\n",
    "            })\n",
    "\n",
    "    return results\n",
    "\n",
    "# Example usage\n",
    "if __name__ == \"__main__\":\n",
    "    query = input(\"Enter your search query: \")\n",
    "    num_results = 5  # Change this to the number of results you want\n",
    "    results = search_web(query, num_results)\n",
    "\n",
    "    if results:\n",
    "        for idx, result in enumerate(results, 1):\n",
    "            print(f\"Result {idx}:\")\n",
    "            print(f\"Title: {result['title']}\")\n",
    "            print(f\"Link: {result['link']}\")\n",
    "            print(f\"Snippet: {result['snippet']}\\n\")\n",
    "    else:\n",
    "        print(\"No results found.\")\n"
   ]
  },
  {
   "cell_type": "code",
   "execution_count": null,
   "metadata": {},
   "outputs": [],
   "source": []
  }
 ],
 "metadata": {
  "kernelspec": {
   "display_name": ".venv",
   "language": "python",
   "name": "python3"
  },
  "language_info": {
   "codemirror_mode": {
    "name": "ipython",
    "version": 3
   },
   "file_extension": ".py",
   "mimetype": "text/x-python",
   "name": "python",
   "nbconvert_exporter": "python",
   "pygments_lexer": "ipython3",
   "version": "3.10.11"
  }
 },
 "nbformat": 4,
 "nbformat_minor": 2
}
