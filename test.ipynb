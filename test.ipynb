{
 "cells": [
  {
   "cell_type": "code",
   "execution_count": 10,
   "metadata": {},
   "outputs": [],
   "source": [
    "import re\n",
    "def get_occurrences(input_string, start_substring='', end_substring='\\n'):\n",
    "    # Create a regular expression pattern based on the provided start and end substrings\n",
    "    if end_substring=='':\n",
    "        index = input_string.find(start_substring)\n",
    "        if index == -1:\n",
    "            return \"\"\n",
    "        return input_string[index + len(start_substring):]\n",
    "    else:\n",
    "        pattern = re.escape(start_substring) + r'(.*?)' + re.escape(end_substring)\n",
    "        # Find all occurrences of text between the start and end substrings\n",
    "        matches = re.findall(pattern, input_string)\n",
    "        return matches[0].strip()  # Return a list of all occurrences"
   ]
  },
  {
   "cell_type": "code",
   "execution_count": 12,
   "metadata": {},
   "outputs": [
    {
     "data": {
      "text/plain": [
       "'Succeeded'"
      ]
     },
     "execution_count": 12,
     "metadata": {},
     "output_type": "execute_result"
    }
   ],
   "source": [
    "txt = '''FINAL REPORT:\n",
    "The PCAP analysis revealed a directory traversal attack attempt in Frame 7, where an HTTP GET request was made to access the '/etc/passwd' file. This is indicative of a directory traversal vulnerability. The request was made to the HTTP service on port 80, which aligns with the description of CVE-2018-14064, a known directory traversal vulnerability in the uc-http service on port 80. The extracted frame confirms the presence of a directory traversal attack attempt, as evidenced by the HTTP GET request to access '/etc/passwd'.\n",
    "REPORT SUMMARY:\n",
    "Identified CVE: CVE-2018-14064\n",
    "Affected Service: uc-http ser vice on port 80\n",
    "Is Service Vulnerable: True\n",
    "Attack: Succeeded\n",
    "Critical PCAP entries: *{'frame_number': 7, 'request_uri': '/icons/.%2e/%2e%2e/%2e%2e/%2e%2e/etc/passwd', 'host': 'localhost', 'connection': 'close'}'''\n",
    "get_occurrences(txt, \"Attack: \")"
   ]
  },
  {
   "cell_type": "code",
   "execution_count": null,
   "metadata": {},
   "outputs": [],
   "source": []
  }
 ],
 "metadata": {
  "kernelspec": {
   "display_name": ".venv",
   "language": "python",
   "name": "python3"
  },
  "language_info": {
   "codemirror_mode": {
    "name": "ipython",
    "version": 3
   },
   "file_extension": ".py",
   "mimetype": "text/x-python",
   "name": "python",
   "nbconvert_exporter": "python",
   "pygments_lexer": "ipython3",
   "version": "3.10.11"
  }
 },
 "nbformat": 4,
 "nbformat_minor": 2
}
